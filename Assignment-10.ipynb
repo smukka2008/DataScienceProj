{
 "cells": [
  {
   "cell_type": "code",
   "execution_count": 1,
   "id": "16aadb7a",
   "metadata": {},
   "outputs": [
    {
     "name": "stderr",
     "output_type": "stream",
     "text": [
      "Cloning into 'DataScienceProj'...\n",
      "warning: You appear to have cloned an empty repository.\n"
     ]
    }
   ],
   "source": [
    "!git clone https://github.com/smukka2008/DataScienceProj.git"
   ]
  },
  {
   "cell_type": "markdown",
   "id": "542a36d7",
   "metadata": {},
   "source": [
    "let me try 2nd attempt"
   ]
  },
  {
   "cell_type": "markdown",
   "id": "096f51e1",
   "metadata": {},
   "source": [
    "2+2"
   ]
  },
  {
   "cell_type": "code",
   "execution_count": 1,
   "id": "8b392c77",
   "metadata": {},
   "outputs": [
    {
     "name": "stdout",
     "output_type": "stream",
     "text": [
      "On branch main\n",
      "Your branch is up to date with 'origin/main'.\n",
      "\n",
      "nothing to commit, working tree clean\n"
     ]
    }
   ],
   "source": [
    "!git status"
   ]
  },
  {
   "cell_type": "code",
   "execution_count": 2,
   "id": "a3877da8",
   "metadata": {},
   "outputs": [
    {
     "name": "stdout",
     "output_type": "stream",
     "text": [
      "On branch main\n",
      "Your branch is up to date with 'origin/main'.\n",
      "\n",
      "Changes not staged for commit:\n",
      "  (use \"git add <file>...\" to update what will be committed)\n",
      "  (use \"git restore <file>...\" to discard changes in working directory)\n",
      "\tmodified:   Assignment-10.ipynb\n",
      "\n",
      "Untracked files:\n",
      "  (use \"git add <file>...\" to include in what will be committed)\n",
      "\t.ipynb_checkpoints/\n",
      "\n",
      "no changes added to commit (use \"git add\" and/or \"git commit -a\")\n"
     ]
    }
   ],
   "source": [
    "!git status"
   ]
  },
  {
   "cell_type": "code",
   "execution_count": 5,
   "id": "022e5569",
   "metadata": {},
   "outputs": [
    {
     "name": "stderr",
     "output_type": "stream",
     "text": [
      "warning: LF will be replaced by CRLF in Assignment-10.ipynb.\n",
      "The file will have its original line endings in your working directory\n"
     ]
    }
   ],
   "source": [
    "!git add \"Assignment-10.ipynb\""
   ]
  },
  {
   "cell_type": "code",
   "execution_count": 6,
   "id": "ebdeede4",
   "metadata": {},
   "outputs": [
    {
     "name": "stdout",
     "output_type": "stream",
     "text": [
      "[main 8565d43] 3rd try\n",
      " 1 file changed, 86 insertions(+), 1 deletion(-)\n"
     ]
    }
   ],
   "source": [
    "!git commit -m \"3rd try\""
   ]
  },
  {
   "cell_type": "code",
   "execution_count": 7,
   "id": "68da7709",
   "metadata": {},
   "outputs": [
    {
     "name": "stderr",
     "output_type": "stream",
     "text": [
      "To https://github.com/smukka2008/DataScienceProj.git\n",
      "   ca6eafd..8565d43  main -> main\n"
     ]
    }
   ],
   "source": [
    "!git push"
   ]
  },
  {
   "cell_type": "markdown",
   "id": "2eb81459",
   "metadata": {},
   "source": [
    "What is your public GitHub username? smukka2008"
   ]
  },
  {
   "cell_type": "markdown",
   "id": "c657a407",
   "metadata": {},
   "source": [
    "Can you find the option to create a new repository in your account? Yes"
   ]
  },
  {
   "cell_type": "markdown",
   "id": "9bda4146",
   "metadata": {},
   "source": [
    "What does command this do? It clones the git repository (remote) to local directory"
   ]
  },
  {
   "cell_type": "markdown",
   "id": "2f3d15d3",
   "metadata": {},
   "source": [
    "Was your first attempt successful? If not, did you eventually figure it out? If not, what is your struggle point?\n",
    "1st attempt was not successful. I had to download and create a git repository on my pc and play around with the commands a couple of times to be able to sync."
   ]
  },
  {
   "cell_type": "code",
   "execution_count": 11,
   "id": "760db35f",
   "metadata": {},
   "outputs": [
    {
     "name": "stderr",
     "output_type": "stream",
     "text": [
      "warning: LF will be replaced by CRLF in Assignment-10.ipynb.\n",
      "The file will have its original line endings in your working directory\n"
     ]
    }
   ],
   "source": [
    "!git add \"Assignment-10.ipynb\""
   ]
  },
  {
   "cell_type": "code",
   "execution_count": 12,
   "id": "cb5083d9",
   "metadata": {},
   "outputs": [
    {
     "name": "stdout",
     "output_type": "stream",
     "text": [
      "[main d377722] pushing comments for the assignment\n",
      " 1 file changed, 76 insertions(+), 12 deletions(-)\n"
     ]
    }
   ],
   "source": [
    "!git commit -m \"pushing comments for the assignment\""
   ]
  },
  {
   "cell_type": "code",
   "execution_count": 13,
   "id": "127bd386",
   "metadata": {},
   "outputs": [
    {
     "name": "stderr",
     "output_type": "stream",
     "text": [
      "To https://github.com/smukka2008/DataScienceProj.git\n",
      "   8565d43..d377722  main -> main\n"
     ]
    }
   ],
   "source": [
    "!git push"
   ]
  },
  {
   "cell_type": "markdown",
   "id": "876efedb",
   "metadata": {},
   "source": [
    "# Working on cloning readme file from BDSF"
   ]
  },
  {
   "cell_type": "code",
   "execution_count": 14,
   "id": "f5e71b0d",
   "metadata": {},
   "outputs": [
    {
     "name": "stderr",
     "output_type": "stream",
     "text": [
      "Cloning into 'BDSF'...\n"
     ]
    }
   ],
   "source": [
    "!git clone https://github.com/smirs/BDSF.git"
   ]
  },
  {
   "cell_type": "code",
   "execution_count": 15,
   "id": "1e51f056",
   "metadata": {},
   "outputs": [
    {
     "name": "stderr",
     "output_type": "stream",
     "text": [
      "fatal: destination path 'BDSF' already exists and is not an empty directory.\n",
      "'quot' is not recognized as an internal or external command,\n",
      "operable program or batch file.\n"
     ]
    }
   ],
   "source": [
    "!git clone https://github.com/smirs/BDSF.git&quot"
   ]
  },
  {
   "cell_type": "markdown",
   "id": "fa87381e",
   "metadata": {},
   "source": [
    "this command can be executed by removing ''&quot'. once this is executed it makes a copy in my local directory"
   ]
  },
  {
   "cell_type": "code",
   "execution_count": null,
   "id": "bf066718",
   "metadata": {},
   "outputs": [],
   "source": []
  }
 ],
 "metadata": {
  "kernelspec": {
   "display_name": "Python 3 (ipykernel)",
   "language": "python",
   "name": "python3"
  },
  "language_info": {
   "codemirror_mode": {
    "name": "ipython",
    "version": 3
   },
   "file_extension": ".py",
   "mimetype": "text/x-python",
   "name": "python",
   "nbconvert_exporter": "python",
   "pygments_lexer": "ipython3",
   "version": "3.9.7"
  }
 },
 "nbformat": 4,
 "nbformat_minor": 5
}
